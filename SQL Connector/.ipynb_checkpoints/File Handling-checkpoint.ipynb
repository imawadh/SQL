{
 "cells": [
  {
   "cell_type": "markdown",
   "id": "448d0a35",
   "metadata": {},
   "source": [
    "# Open a txt file "
   ]
  },
  {
   "cell_type": "code",
   "execution_count": 97,
   "id": "8c791c84",
   "metadata": {},
   "outputs": [],
   "source": [
    "open_file = open(\"file.txt\")"
   ]
  },
  {
   "cell_type": "markdown",
   "id": "13b8ee17",
   "metadata": {},
   "source": [
    "By default it is read mode "
   ]
  },
  {
   "cell_type": "markdown",
   "id": "fbec29f6",
   "metadata": {},
   "source": [
    "# Reading a file in Python"
   ]
  },
  {
   "cell_type": "code",
   "execution_count": 120,
   "id": "16c4eed9",
   "metadata": {},
   "outputs": [],
   "source": [
    "read_file = open_file.read()"
   ]
  },
  {
   "cell_type": "code",
   "execution_count": 121,
   "id": "799f4645",
   "metadata": {},
   "outputs": [
    {
     "name": "stdout",
     "output_type": "stream",
     "text": [
      "\n"
     ]
    }
   ],
   "source": [
    "print(read_file)"
   ]
  },
  {
   "cell_type": "markdown",
   "id": "f893c28c",
   "metadata": {},
   "source": [
    "# Writing to a file using Python in a existing file"
   ]
  },
  {
   "cell_type": "code",
   "execution_count": 122,
   "id": "5a90f5ea",
   "metadata": {},
   "outputs": [],
   "source": [
    "open_data = open(\"file.txt\",'w')"
   ]
  },
  {
   "cell_type": "code",
   "execution_count": 123,
   "id": "eecb6912",
   "metadata": {},
   "outputs": [
    {
     "data": {
      "text/plain": [
       "32"
      ]
     },
     "execution_count": 123,
     "metadata": {},
     "output_type": "execute_result"
    }
   ],
   "source": [
    "open_data.write(\"Hello I am Awadh Kishor Singh  \\n My name is Lakhan \")"
   ]
  },
  {
   "cell_type": "code",
   "execution_count": 124,
   "id": "04042938",
   "metadata": {},
   "outputs": [],
   "source": [
    "open_data.close()"
   ]
  },
  {
   "cell_type": "code",
   "execution_count": 125,
   "id": "e5979764",
   "metadata": {},
   "outputs": [],
   "source": [
    "open_data = open(\"file.txt\")"
   ]
  },
  {
   "cell_type": "code",
   "execution_count": 126,
   "id": "41724101",
   "metadata": {},
   "outputs": [],
   "source": [
    "read_data = open_data.read()"
   ]
  },
  {
   "cell_type": "code",
   "execution_count": 127,
   "id": "b5ebadea",
   "metadata": {},
   "outputs": [
    {
     "name": "stdout",
     "output_type": "stream",
     "text": [
      "Hello I am Awadh Kishor Singh  \n",
      "\n"
     ]
    }
   ],
   "source": [
    "print(read_data)"
   ]
  },
  {
   "cell_type": "code",
   "execution_count": 128,
   "id": "78eb67ce",
   "metadata": {},
   "outputs": [
    {
     "name": "stdout",
     "output_type": "stream",
     "text": [
      "Hello I am Awadh Kishor Singh  \n",
      "\n"
     ]
    }
   ],
   "source": [
    "print(read_data)"
   ]
  },
  {
   "cell_type": "code",
   "execution_count": null,
   "id": "84b50969",
   "metadata": {},
   "outputs": [],
   "source": []
  },
  {
   "cell_type": "markdown",
   "id": "3681397b",
   "metadata": {},
   "source": [
    "# Closing a file"
   ]
  },
  {
   "cell_type": "code",
   "execution_count": 49,
   "id": "3ef35df6",
   "metadata": {},
   "outputs": [],
   "source": [
    "open_file.close()"
   ]
  },
  {
   "cell_type": "code",
   "execution_count": null,
   "id": "0961ad26",
   "metadata": {},
   "outputs": [],
   "source": []
  }
 ],
 "metadata": {
  "kernelspec": {
   "display_name": "Python 3 (ipykernel)",
   "language": "python",
   "name": "python3"
  },
  "language_info": {
   "codemirror_mode": {
    "name": "ipython",
    "version": 3
   },
   "file_extension": ".py",
   "mimetype": "text/x-python",
   "name": "python",
   "nbconvert_exporter": "python",
   "pygments_lexer": "ipython3",
   "version": "3.11.5"
  }
 },
 "nbformat": 4,
 "nbformat_minor": 5
}
